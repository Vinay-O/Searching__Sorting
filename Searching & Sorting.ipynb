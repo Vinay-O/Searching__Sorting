{
 "cells": [
  {
   "cell_type": "code",
   "execution_count": 1,
   "id": "473b64f5",
   "metadata": {},
   "outputs": [
    {
     "name": "stdout",
     "output_type": "stream",
     "text": [
      "Item found at index: 5\n"
     ]
    }
   ],
   "source": [
    "def binary_search(list, item):\n",
    "    low = 0\n",
    "    high = len(list) - 1\n",
    "    while low <= high:\n",
    "        mid = (low + high) // 2\n",
    "        if list[mid] == item:\n",
    "            return mid\n",
    "        elif list[mid] < item:\n",
    "            low = mid + 1\n",
    "        else:\n",
    "            high = mid - 1\n",
    "    return -1\n",
    "\n",
    "def main():\n",
    "    list = [1, 3, 5, 7, 9, 11, 13, 15]\n",
    "    item = 11\n",
    "    index = binary_search(list, item)\n",
    "    if index == -1:\n",
    "        print(\"Item not found\")\n",
    "    else:\n",
    "        print(\"Item found at index:\", index)\n",
    "\n",
    "main()"
   ]
  },
  {
   "cell_type": "code",
   "execution_count": 2,
   "id": "4fe07150",
   "metadata": {},
   "outputs": [
    {
     "name": "stdout",
     "output_type": "stream",
     "text": [
      "[5, 9, 12, 12, 16, 43, 77, 82, 99, 101, 123, 360, 421]\n"
     ]
    }
   ],
   "source": [
    "def merge(left, right):\n",
    "    result = []\n",
    "    i = 0\n",
    "    j = 0\n",
    "    while i < len(left) and j < len(right):\n",
    "        if left[i] <= right[j]:\n",
    "            result.append(left[i])\n",
    "            i += 1\n",
    "        else:\n",
    "            result.append(right[j])\n",
    "            j += 1\n",
    "    result += left[i:]\n",
    "    result += right[j:]\n",
    "    return result\n",
    "\n",
    "def merge_sort(list):\n",
    "    if len(list) <= 1:\n",
    "        return list\n",
    "    middle = len(list) // 2\n",
    "    left = merge_sort(list[:middle])\n",
    "    right = merge_sort(list[middle:])\n",
    "    return merge(left, right)\n",
    "\n",
    "def main():\n",
    "    list = [99,360,421,12,5,43,77,82,12,16,9,101,123]\n",
    "    sorted_list = merge_sort(list)\n",
    "    print(sorted_list)\n",
    "\n",
    "main()"
   ]
  },
  {
   "cell_type": "code",
   "execution_count": 3,
   "id": "f8bbb55b",
   "metadata": {},
   "outputs": [
    {
     "name": "stdout",
     "output_type": "stream",
     "text": [
      "[0, 2, 3, 4, 8, 9, 10, 12, 12, 16, 43, 55, 77, 82, 99, 101, 123, 124, 360, 421]\n"
     ]
    }
   ],
   "source": [
    "def partition(list, low, high):\n",
    "    pivot = list[high]\n",
    "    i = low - 1\n",
    "    for j in range(low, high):\n",
    "        if list[j] <= pivot:\n",
    "            i += 1\n",
    "            list[i], list[j] = list[j], list[i]\n",
    "    list[i + 1], list[high] = list[high], list[i + 1]\n",
    "    return i + 1\n",
    "\n",
    "\n",
    "def quick_sort(list, low, high):\n",
    "    if low < high:\n",
    "        pi = partition(list, low, high)\n",
    "        quick_sort(list, low, pi - 1)\n",
    "        quick_sort(list, pi + 1, high)\n",
    "\n",
    "def main():\n",
    "    list = [99,360,421,0,12,2,3,124,4,10,8,55,43,77,82,12,16,9,101,123]\n",
    "    quick_sort(list, 0, len(list) - 1)\n",
    "    print(list)\n",
    "\n",
    "main()"
   ]
  },
  {
   "cell_type": "code",
   "execution_count": 4,
   "id": "dfcbae4c",
   "metadata": {},
   "outputs": [
    {
     "name": "stdout",
     "output_type": "stream",
     "text": [
      "[2, 3, 4, 8, 9, 10, 12, 16, 43, 55, 77, 82, 101, 123]\n"
     ]
    }
   ],
   "source": [
    "def insertion_sort(list):\n",
    "    for i in range(1, len(list)):\n",
    "        key = list[i]\n",
    "        j = i - 1\n",
    "        while j >= 0 and list[j] > key:\n",
    "            list[j + 1] = list[j]\n",
    "            j -= 1\n",
    "        list[j + 1] = key\n",
    "\n",
    "def main():\n",
    "    list = [2,3,4,10,8,55,43,77,82,12,16,9,101,123]\n",
    "    insertion_sort(list)\n",
    "    print(list)\n",
    "\n",
    "main()"
   ]
  },
  {
   "cell_type": "code",
   "execution_count": 5,
   "id": "607fa3b2",
   "metadata": {},
   "outputs": [
    {
     "name": "stdout",
     "output_type": "stream",
     "text": [
      "['apple', 'banana', 'cat', 'cherry', 'dog', 'fish']\n"
     ]
    }
   ],
   "source": [
    "def sort_strings(list):\n",
    "    \"\"\"Sorts a list of strings in alphabetical order.\"\"\"\n",
    "    for i in range(len(list)):\n",
    "        for j in range(i + 1, len(list)):\n",
    "            if list[i] > list[j]:\n",
    "                temp = list[i]\n",
    "                list[i] = list[j]\n",
    "                list[j] = temp\n",
    "    return list\n",
    "\n",
    "def main():\n",
    "    list = [\"banana\", \"dog\", \"cherry\", \"fish\", \"cat\", \"apple\"]\n",
    "    sorted_list = sort_strings(list)\n",
    "    print(sorted_list)\n",
    "\n",
    "main()"
   ]
  },
  {
   "cell_type": "code",
   "execution_count": null,
   "id": "0e0b57d8",
   "metadata": {},
   "outputs": [],
   "source": []
  }
 ],
 "metadata": {
  "kernelspec": {
   "display_name": "Python 3 (ipykernel)",
   "language": "python",
   "name": "python3"
  },
  "language_info": {
   "codemirror_mode": {
    "name": "ipython",
    "version": 3
   },
   "file_extension": ".py",
   "mimetype": "text/x-python",
   "name": "python",
   "nbconvert_exporter": "python",
   "pygments_lexer": "ipython3",
   "version": "3.10.9"
  }
 },
 "nbformat": 4,
 "nbformat_minor": 5
}
